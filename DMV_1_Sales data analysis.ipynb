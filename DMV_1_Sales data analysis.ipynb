{
 "cells": [
  {
   "cell_type": "raw",
   "id": "de1cc69e-812d-477e-b071-f12a29aeb97e",
   "metadata": {},
   "source": [
    "Name : Hitesh Sanjaysing Girase\n",
    "\n",
    "Branch/Year : BE AI&DS ( SEM - 7TH )\n",
    "\n",
    "Roll No : 05\n",
    "\n",
    "DMV Practical No & Title : 1. Analyzing Sales Data From Multiple File Formats"
   ]
  },
  {
   "cell_type": "code",
   "execution_count": 116,
   "id": "73f5dd64-b649-4a41-bb21-11436144086f",
   "metadata": {},
   "outputs": [],
   "source": [
    "import numpy as np\n",
    "import pandas as pd\n",
    "from matplotlib import pyplot as plt\n",
    "import json\n",
    "import seaborn as sns \n",
    "%matplotlib inline \n",
    "sns.set(style=\"whitegrid\")"
   ]
  },
  {
   "cell_type": "code",
   "execution_count": 118,
   "id": "81a56be2-fbe2-47a3-99e0-fecbd9296bcd",
   "metadata": {},
   "outputs": [
    {
     "name": "stdout",
     "output_type": "stream",
     "text": [
      "File 1: 'sales_data_sample.csv' loaded.\n"
     ]
    }
   ],
   "source": [
    "# File 1: CSV\n",
    "csv = pd.read_csv(\"C:/Users/Hitesh Girase/Downloads/sales_data_sample.csv\", encoding=\"cp1252\")\n",
    "print(\"File 1: 'sales_data_sample.csv' loaded.\")"
   ]
  },
  {
   "cell_type": "code",
   "execution_count": 120,
   "id": "0eb28cf1-23da-4085-ac55-7f892c366269",
   "metadata": {},
   "outputs": [
    {
     "name": "stdout",
     "output_type": "stream",
     "text": [
      "File 2: 'Sample-Sales-Data.xlsx' loaded.\n"
     ]
    }
   ],
   "source": [
    "import pandas as pd\n",
    "\n",
    "# File 2: XLSX \n",
    "ed = pd.read_excel(\"C:/Users/Hitesh Girase/Downloads/Sample-Sales-Data.xlsx\")\n",
    "print(\"File 2: 'Sample-Sales-Data.xlsx' loaded.\")\n"
   ]
  },
  {
   "cell_type": "code",
   "execution_count": 122,
   "id": "3652105b-f724-4a3a-b074-d2e793c75464",
   "metadata": {},
   "outputs": [
    {
     "name": "stdout",
     "output_type": "stream",
     "text": [
      "File 3: 'customers.json' loaded.\n"
     ]
    }
   ],
   "source": [
    "# File 3: JSON\n",
    "with open(\"C:/Users/Hitesh Girase/Downloads/customers.json\", \"r\") as json_file:\n",
    "    json_data = json.load(json_file)\n",
    "print(\"File 3: 'customers.json' loaded.\")"
   ]
  },
  {
   "cell_type": "code",
   "execution_count": 124,
   "id": "87ad6bc2-087b-4f27-a1c3-96a155c99807",
   "metadata": {},
   "outputs": [
    {
     "name": "stdout",
     "output_type": "stream",
     "text": [
      "JSON data has been converted into a DataFrame (cust_df).\n"
     ]
    }
   ],
   "source": [
    "# Convert JSON data into a DataFrame\n",
    "cust_df = pd.DataFrame(json_data)\n",
    "print(\"JSON data has been converted into a DataFrame (cust_df).\")\n"
   ]
  },
  {
   "cell_type": "code",
   "execution_count": 126,
   "id": "57b5e29f-2b46-4750-ae4c-7989bbe9b0fc",
   "metadata": {},
   "outputs": [
    {
     "name": "stdout",
     "output_type": "stream",
     "text": [
      "--- File 1 (csv) Info ---\n",
      "<class 'pandas.core.frame.DataFrame'>\n",
      "RangeIndex: 2823 entries, 0 to 2822\n",
      "Data columns (total 25 columns):\n",
      " #   Column            Non-Null Count  Dtype  \n",
      "---  ------            --------------  -----  \n",
      " 0   ORDERNUMBER       2823 non-null   int64  \n",
      " 1   QUANTITYORDERED   2823 non-null   int64  \n",
      " 2   PRICEEACH         2823 non-null   float64\n",
      " 3   ORDERLINENUMBER   2823 non-null   int64  \n",
      " 4   SALES             2823 non-null   float64\n",
      " 5   ORDERDATE         2823 non-null   object \n",
      " 6   STATUS            2823 non-null   object \n",
      " 7   QTR_ID            2823 non-null   int64  \n",
      " 8   MONTH_ID          2823 non-null   int64  \n",
      " 9   YEAR_ID           2823 non-null   int64  \n",
      " 10  PRODUCTLINE       2823 non-null   object \n",
      " 11  MSRP              2823 non-null   int64  \n",
      " 12  PRODUCTCODE       2823 non-null   object \n",
      " 13  CUSTOMERNAME      2823 non-null   object \n",
      " 14  PHONE             2823 non-null   object \n",
      " 15  ADDRESSLINE1      2823 non-null   object \n",
      " 16  ADDRESSLINE2      302 non-null    object \n",
      " 17  CITY              2823 non-null   object \n",
      " 18  STATE             1337 non-null   object \n",
      " 19  POSTALCODE        2747 non-null   object \n",
      " 20  COUNTRY           2823 non-null   object \n",
      " 21  TERRITORY         1749 non-null   object \n",
      " 22  CONTACTLASTNAME   2823 non-null   object \n",
      " 23  CONTACTFIRSTNAME  2823 non-null   object \n",
      " 24  DEALSIZE          2823 non-null   object \n",
      "dtypes: float64(2), int64(7), object(16)\n",
      "memory usage: 551.5+ KB\n"
     ]
    }
   ],
   "source": [
    "print(\"--- File 1 (csv) Info ---\")\n",
    "csv.info()"
   ]
  },
  {
   "cell_type": "code",
   "execution_count": 128,
   "id": "e8bb9b4f-9b91-4087-8cfa-d5376eea75dc",
   "metadata": {},
   "outputs": [
    {
     "name": "stdout",
     "output_type": "stream",
     "text": [
      "--- File 1 (csv) Describe ---\n"
     ]
    },
    {
     "data": {
      "text/html": [
       "<div>\n",
       "<style scoped>\n",
       "    .dataframe tbody tr th:only-of-type {\n",
       "        vertical-align: middle;\n",
       "    }\n",
       "\n",
       "    .dataframe tbody tr th {\n",
       "        vertical-align: top;\n",
       "    }\n",
       "\n",
       "    .dataframe thead th {\n",
       "        text-align: right;\n",
       "    }\n",
       "</style>\n",
       "<table border=\"1\" class=\"dataframe\">\n",
       "  <thead>\n",
       "    <tr style=\"text-align: right;\">\n",
       "      <th></th>\n",
       "      <th>ORDERNUMBER</th>\n",
       "      <th>QUANTITYORDERED</th>\n",
       "      <th>PRICEEACH</th>\n",
       "      <th>ORDERLINENUMBER</th>\n",
       "      <th>SALES</th>\n",
       "      <th>QTR_ID</th>\n",
       "      <th>MONTH_ID</th>\n",
       "      <th>YEAR_ID</th>\n",
       "      <th>MSRP</th>\n",
       "    </tr>\n",
       "  </thead>\n",
       "  <tbody>\n",
       "    <tr>\n",
       "      <th>count</th>\n",
       "      <td>2823.000000</td>\n",
       "      <td>2823.000000</td>\n",
       "      <td>2823.000000</td>\n",
       "      <td>2823.000000</td>\n",
       "      <td>2823.000000</td>\n",
       "      <td>2823.000000</td>\n",
       "      <td>2823.000000</td>\n",
       "      <td>2823.00000</td>\n",
       "      <td>2823.000000</td>\n",
       "    </tr>\n",
       "    <tr>\n",
       "      <th>mean</th>\n",
       "      <td>10258.725115</td>\n",
       "      <td>35.092809</td>\n",
       "      <td>83.658544</td>\n",
       "      <td>6.466171</td>\n",
       "      <td>3553.889072</td>\n",
       "      <td>2.717676</td>\n",
       "      <td>7.092455</td>\n",
       "      <td>2003.81509</td>\n",
       "      <td>100.715551</td>\n",
       "    </tr>\n",
       "    <tr>\n",
       "      <th>std</th>\n",
       "      <td>92.085478</td>\n",
       "      <td>9.741443</td>\n",
       "      <td>20.174277</td>\n",
       "      <td>4.225841</td>\n",
       "      <td>1841.865106</td>\n",
       "      <td>1.203878</td>\n",
       "      <td>3.656633</td>\n",
       "      <td>0.69967</td>\n",
       "      <td>40.187912</td>\n",
       "    </tr>\n",
       "    <tr>\n",
       "      <th>min</th>\n",
       "      <td>10100.000000</td>\n",
       "      <td>6.000000</td>\n",
       "      <td>26.880000</td>\n",
       "      <td>1.000000</td>\n",
       "      <td>482.130000</td>\n",
       "      <td>1.000000</td>\n",
       "      <td>1.000000</td>\n",
       "      <td>2003.00000</td>\n",
       "      <td>33.000000</td>\n",
       "    </tr>\n",
       "    <tr>\n",
       "      <th>25%</th>\n",
       "      <td>10180.000000</td>\n",
       "      <td>27.000000</td>\n",
       "      <td>68.860000</td>\n",
       "      <td>3.000000</td>\n",
       "      <td>2203.430000</td>\n",
       "      <td>2.000000</td>\n",
       "      <td>4.000000</td>\n",
       "      <td>2003.00000</td>\n",
       "      <td>68.000000</td>\n",
       "    </tr>\n",
       "    <tr>\n",
       "      <th>50%</th>\n",
       "      <td>10262.000000</td>\n",
       "      <td>35.000000</td>\n",
       "      <td>95.700000</td>\n",
       "      <td>6.000000</td>\n",
       "      <td>3184.800000</td>\n",
       "      <td>3.000000</td>\n",
       "      <td>8.000000</td>\n",
       "      <td>2004.00000</td>\n",
       "      <td>99.000000</td>\n",
       "    </tr>\n",
       "    <tr>\n",
       "      <th>75%</th>\n",
       "      <td>10333.500000</td>\n",
       "      <td>43.000000</td>\n",
       "      <td>100.000000</td>\n",
       "      <td>9.000000</td>\n",
       "      <td>4508.000000</td>\n",
       "      <td>4.000000</td>\n",
       "      <td>11.000000</td>\n",
       "      <td>2004.00000</td>\n",
       "      <td>124.000000</td>\n",
       "    </tr>\n",
       "    <tr>\n",
       "      <th>max</th>\n",
       "      <td>10425.000000</td>\n",
       "      <td>97.000000</td>\n",
       "      <td>100.000000</td>\n",
       "      <td>18.000000</td>\n",
       "      <td>14082.800000</td>\n",
       "      <td>4.000000</td>\n",
       "      <td>12.000000</td>\n",
       "      <td>2005.00000</td>\n",
       "      <td>214.000000</td>\n",
       "    </tr>\n",
       "  </tbody>\n",
       "</table>\n",
       "</div>"
      ],
      "text/plain": [
       "        ORDERNUMBER  QUANTITYORDERED    PRICEEACH  ORDERLINENUMBER  \\\n",
       "count   2823.000000      2823.000000  2823.000000      2823.000000   \n",
       "mean   10258.725115        35.092809    83.658544         6.466171   \n",
       "std       92.085478         9.741443    20.174277         4.225841   \n",
       "min    10100.000000         6.000000    26.880000         1.000000   \n",
       "25%    10180.000000        27.000000    68.860000         3.000000   \n",
       "50%    10262.000000        35.000000    95.700000         6.000000   \n",
       "75%    10333.500000        43.000000   100.000000         9.000000   \n",
       "max    10425.000000        97.000000   100.000000        18.000000   \n",
       "\n",
       "              SALES       QTR_ID     MONTH_ID     YEAR_ID         MSRP  \n",
       "count   2823.000000  2823.000000  2823.000000  2823.00000  2823.000000  \n",
       "mean    3553.889072     2.717676     7.092455  2003.81509   100.715551  \n",
       "std     1841.865106     1.203878     3.656633     0.69967    40.187912  \n",
       "min      482.130000     1.000000     1.000000  2003.00000    33.000000  \n",
       "25%     2203.430000     2.000000     4.000000  2003.00000    68.000000  \n",
       "50%     3184.800000     3.000000     8.000000  2004.00000    99.000000  \n",
       "75%     4508.000000     4.000000    11.000000  2004.00000   124.000000  \n",
       "max    14082.800000     4.000000    12.000000  2005.00000   214.000000  "
      ]
     },
     "execution_count": 128,
     "metadata": {},
     "output_type": "execute_result"
    }
   ],
   "source": [
    "print(\"--- File 1 (csv) Describe ---\")\n",
    "csv.describe()"
   ]
  },
  {
   "cell_type": "code",
   "execution_count": 130,
   "id": "0c7a929e-cadb-4c12-b5d4-3d7d6d6ea0a1",
   "metadata": {},
   "outputs": [
    {
     "name": "stdout",
     "output_type": "stream",
     "text": [
      "--- File 1 (csv) shape ---\n"
     ]
    },
    {
     "data": {
      "text/plain": [
       "(2823, 25)"
      ]
     },
     "execution_count": 130,
     "metadata": {},
     "output_type": "execute_result"
    }
   ],
   "source": [
    "print(\"--- File 1 (csv) shape ---\")\n",
    "csv.shape"
   ]
  },
  {
   "cell_type": "code",
   "execution_count": 132,
   "id": "538cdfec-d5f8-4c30-9082-87e7c5881b28",
   "metadata": {},
   "outputs": [
    {
     "name": "stdout",
     "output_type": "stream",
     "text": [
      "--- File 1 (csv) head (first few rows) ---\n"
     ]
    },
    {
     "data": {
      "text/html": [
       "<div>\n",
       "<style scoped>\n",
       "    .dataframe tbody tr th:only-of-type {\n",
       "        vertical-align: middle;\n",
       "    }\n",
       "\n",
       "    .dataframe tbody tr th {\n",
       "        vertical-align: top;\n",
       "    }\n",
       "\n",
       "    .dataframe thead th {\n",
       "        text-align: right;\n",
       "    }\n",
       "</style>\n",
       "<table border=\"1\" class=\"dataframe\">\n",
       "  <thead>\n",
       "    <tr style=\"text-align: right;\">\n",
       "      <th></th>\n",
       "      <th>ORDERNUMBER</th>\n",
       "      <th>QUANTITYORDERED</th>\n",
       "      <th>PRICEEACH</th>\n",
       "      <th>ORDERLINENUMBER</th>\n",
       "      <th>SALES</th>\n",
       "      <th>ORDERDATE</th>\n",
       "      <th>STATUS</th>\n",
       "      <th>QTR_ID</th>\n",
       "      <th>MONTH_ID</th>\n",
       "      <th>YEAR_ID</th>\n",
       "      <th>...</th>\n",
       "      <th>ADDRESSLINE1</th>\n",
       "      <th>ADDRESSLINE2</th>\n",
       "      <th>CITY</th>\n",
       "      <th>STATE</th>\n",
       "      <th>POSTALCODE</th>\n",
       "      <th>COUNTRY</th>\n",
       "      <th>TERRITORY</th>\n",
       "      <th>CONTACTLASTNAME</th>\n",
       "      <th>CONTACTFIRSTNAME</th>\n",
       "      <th>DEALSIZE</th>\n",
       "    </tr>\n",
       "  </thead>\n",
       "  <tbody>\n",
       "    <tr>\n",
       "      <th>0</th>\n",
       "      <td>10107</td>\n",
       "      <td>30</td>\n",
       "      <td>95.70</td>\n",
       "      <td>2</td>\n",
       "      <td>2871.00</td>\n",
       "      <td>2/24/2003 0:00</td>\n",
       "      <td>Shipped</td>\n",
       "      <td>1</td>\n",
       "      <td>2</td>\n",
       "      <td>2003</td>\n",
       "      <td>...</td>\n",
       "      <td>897 Long Airport Avenue</td>\n",
       "      <td>NaN</td>\n",
       "      <td>NYC</td>\n",
       "      <td>NY</td>\n",
       "      <td>10022</td>\n",
       "      <td>USA</td>\n",
       "      <td>NaN</td>\n",
       "      <td>Yu</td>\n",
       "      <td>Kwai</td>\n",
       "      <td>Small</td>\n",
       "    </tr>\n",
       "    <tr>\n",
       "      <th>1</th>\n",
       "      <td>10121</td>\n",
       "      <td>34</td>\n",
       "      <td>81.35</td>\n",
       "      <td>5</td>\n",
       "      <td>2765.90</td>\n",
       "      <td>5/7/2003 0:00</td>\n",
       "      <td>Shipped</td>\n",
       "      <td>2</td>\n",
       "      <td>5</td>\n",
       "      <td>2003</td>\n",
       "      <td>...</td>\n",
       "      <td>59 rue de l'Abbaye</td>\n",
       "      <td>NaN</td>\n",
       "      <td>Reims</td>\n",
       "      <td>NaN</td>\n",
       "      <td>51100</td>\n",
       "      <td>France</td>\n",
       "      <td>EMEA</td>\n",
       "      <td>Henriot</td>\n",
       "      <td>Paul</td>\n",
       "      <td>Small</td>\n",
       "    </tr>\n",
       "    <tr>\n",
       "      <th>2</th>\n",
       "      <td>10134</td>\n",
       "      <td>41</td>\n",
       "      <td>94.74</td>\n",
       "      <td>2</td>\n",
       "      <td>3884.34</td>\n",
       "      <td>7/1/2003 0:00</td>\n",
       "      <td>Shipped</td>\n",
       "      <td>3</td>\n",
       "      <td>7</td>\n",
       "      <td>2003</td>\n",
       "      <td>...</td>\n",
       "      <td>27 rue du Colonel Pierre Avia</td>\n",
       "      <td>NaN</td>\n",
       "      <td>Paris</td>\n",
       "      <td>NaN</td>\n",
       "      <td>75508</td>\n",
       "      <td>France</td>\n",
       "      <td>EMEA</td>\n",
       "      <td>Da Cunha</td>\n",
       "      <td>Daniel</td>\n",
       "      <td>Medium</td>\n",
       "    </tr>\n",
       "    <tr>\n",
       "      <th>3</th>\n",
       "      <td>10145</td>\n",
       "      <td>45</td>\n",
       "      <td>83.26</td>\n",
       "      <td>6</td>\n",
       "      <td>3746.70</td>\n",
       "      <td>8/25/2003 0:00</td>\n",
       "      <td>Shipped</td>\n",
       "      <td>3</td>\n",
       "      <td>8</td>\n",
       "      <td>2003</td>\n",
       "      <td>...</td>\n",
       "      <td>78934 Hillside Dr.</td>\n",
       "      <td>NaN</td>\n",
       "      <td>Pasadena</td>\n",
       "      <td>CA</td>\n",
       "      <td>90003</td>\n",
       "      <td>USA</td>\n",
       "      <td>NaN</td>\n",
       "      <td>Young</td>\n",
       "      <td>Julie</td>\n",
       "      <td>Medium</td>\n",
       "    </tr>\n",
       "    <tr>\n",
       "      <th>4</th>\n",
       "      <td>10159</td>\n",
       "      <td>49</td>\n",
       "      <td>100.00</td>\n",
       "      <td>14</td>\n",
       "      <td>5205.27</td>\n",
       "      <td>10/10/2003 0:00</td>\n",
       "      <td>Shipped</td>\n",
       "      <td>4</td>\n",
       "      <td>10</td>\n",
       "      <td>2003</td>\n",
       "      <td>...</td>\n",
       "      <td>7734 Strong St.</td>\n",
       "      <td>NaN</td>\n",
       "      <td>San Francisco</td>\n",
       "      <td>CA</td>\n",
       "      <td>NaN</td>\n",
       "      <td>USA</td>\n",
       "      <td>NaN</td>\n",
       "      <td>Brown</td>\n",
       "      <td>Julie</td>\n",
       "      <td>Medium</td>\n",
       "    </tr>\n",
       "  </tbody>\n",
       "</table>\n",
       "<p>5 rows × 25 columns</p>\n",
       "</div>"
      ],
      "text/plain": [
       "   ORDERNUMBER  QUANTITYORDERED  PRICEEACH  ORDERLINENUMBER    SALES  \\\n",
       "0        10107               30      95.70                2  2871.00   \n",
       "1        10121               34      81.35                5  2765.90   \n",
       "2        10134               41      94.74                2  3884.34   \n",
       "3        10145               45      83.26                6  3746.70   \n",
       "4        10159               49     100.00               14  5205.27   \n",
       "\n",
       "         ORDERDATE   STATUS  QTR_ID  MONTH_ID  YEAR_ID  ...  \\\n",
       "0   2/24/2003 0:00  Shipped       1         2     2003  ...   \n",
       "1    5/7/2003 0:00  Shipped       2         5     2003  ...   \n",
       "2    7/1/2003 0:00  Shipped       3         7     2003  ...   \n",
       "3   8/25/2003 0:00  Shipped       3         8     2003  ...   \n",
       "4  10/10/2003 0:00  Shipped       4        10     2003  ...   \n",
       "\n",
       "                    ADDRESSLINE1  ADDRESSLINE2           CITY STATE  \\\n",
       "0        897 Long Airport Avenue           NaN            NYC    NY   \n",
       "1             59 rue de l'Abbaye           NaN          Reims   NaN   \n",
       "2  27 rue du Colonel Pierre Avia           NaN          Paris   NaN   \n",
       "3             78934 Hillside Dr.           NaN       Pasadena    CA   \n",
       "4                7734 Strong St.           NaN  San Francisco    CA   \n",
       "\n",
       "  POSTALCODE COUNTRY TERRITORY CONTACTLASTNAME CONTACTFIRSTNAME DEALSIZE  \n",
       "0      10022     USA       NaN              Yu             Kwai    Small  \n",
       "1      51100  France      EMEA         Henriot             Paul    Small  \n",
       "2      75508  France      EMEA        Da Cunha           Daniel   Medium  \n",
       "3      90003     USA       NaN           Young            Julie   Medium  \n",
       "4        NaN     USA       NaN           Brown            Julie   Medium  \n",
       "\n",
       "[5 rows x 25 columns]"
      ]
     },
     "execution_count": 132,
     "metadata": {},
     "output_type": "execute_result"
    }
   ],
   "source": [
    "print(\"--- File 1 (csv) head (first few rows) ---\")\n",
    "csv.head()"
   ]
  },
  {
   "cell_type": "code",
   "execution_count": 134,
   "id": "e37cee85-f39a-4611-9d5d-3848c0dbac9d",
   "metadata": {},
   "outputs": [
    {
     "name": "stdout",
     "output_type": "stream",
     "text": [
      "--- File 1 (csv) tail (last few rows) ---\n"
     ]
    },
    {
     "data": {
      "text/html": [
       "<div>\n",
       "<style scoped>\n",
       "    .dataframe tbody tr th:only-of-type {\n",
       "        vertical-align: middle;\n",
       "    }\n",
       "\n",
       "    .dataframe tbody tr th {\n",
       "        vertical-align: top;\n",
       "    }\n",
       "\n",
       "    .dataframe thead th {\n",
       "        text-align: right;\n",
       "    }\n",
       "</style>\n",
       "<table border=\"1\" class=\"dataframe\">\n",
       "  <thead>\n",
       "    <tr style=\"text-align: right;\">\n",
       "      <th></th>\n",
       "      <th>ORDERNUMBER</th>\n",
       "      <th>QUANTITYORDERED</th>\n",
       "      <th>PRICEEACH</th>\n",
       "      <th>ORDERLINENUMBER</th>\n",
       "      <th>SALES</th>\n",
       "      <th>ORDERDATE</th>\n",
       "      <th>STATUS</th>\n",
       "      <th>QTR_ID</th>\n",
       "      <th>MONTH_ID</th>\n",
       "      <th>YEAR_ID</th>\n",
       "      <th>...</th>\n",
       "      <th>ADDRESSLINE1</th>\n",
       "      <th>ADDRESSLINE2</th>\n",
       "      <th>CITY</th>\n",
       "      <th>STATE</th>\n",
       "      <th>POSTALCODE</th>\n",
       "      <th>COUNTRY</th>\n",
       "      <th>TERRITORY</th>\n",
       "      <th>CONTACTLASTNAME</th>\n",
       "      <th>CONTACTFIRSTNAME</th>\n",
       "      <th>DEALSIZE</th>\n",
       "    </tr>\n",
       "  </thead>\n",
       "  <tbody>\n",
       "    <tr>\n",
       "      <th>2818</th>\n",
       "      <td>10350</td>\n",
       "      <td>20</td>\n",
       "      <td>100.00</td>\n",
       "      <td>15</td>\n",
       "      <td>2244.40</td>\n",
       "      <td>12/2/2004 0:00</td>\n",
       "      <td>Shipped</td>\n",
       "      <td>4</td>\n",
       "      <td>12</td>\n",
       "      <td>2004</td>\n",
       "      <td>...</td>\n",
       "      <td>C/ Moralzarzal, 86</td>\n",
       "      <td>NaN</td>\n",
       "      <td>Madrid</td>\n",
       "      <td>NaN</td>\n",
       "      <td>28034</td>\n",
       "      <td>Spain</td>\n",
       "      <td>EMEA</td>\n",
       "      <td>Freyre</td>\n",
       "      <td>Diego</td>\n",
       "      <td>Small</td>\n",
       "    </tr>\n",
       "    <tr>\n",
       "      <th>2819</th>\n",
       "      <td>10373</td>\n",
       "      <td>29</td>\n",
       "      <td>100.00</td>\n",
       "      <td>1</td>\n",
       "      <td>3978.51</td>\n",
       "      <td>1/31/2005 0:00</td>\n",
       "      <td>Shipped</td>\n",
       "      <td>1</td>\n",
       "      <td>1</td>\n",
       "      <td>2005</td>\n",
       "      <td>...</td>\n",
       "      <td>Torikatu 38</td>\n",
       "      <td>NaN</td>\n",
       "      <td>Oulu</td>\n",
       "      <td>NaN</td>\n",
       "      <td>90110</td>\n",
       "      <td>Finland</td>\n",
       "      <td>EMEA</td>\n",
       "      <td>Koskitalo</td>\n",
       "      <td>Pirkko</td>\n",
       "      <td>Medium</td>\n",
       "    </tr>\n",
       "    <tr>\n",
       "      <th>2820</th>\n",
       "      <td>10386</td>\n",
       "      <td>43</td>\n",
       "      <td>100.00</td>\n",
       "      <td>4</td>\n",
       "      <td>5417.57</td>\n",
       "      <td>3/1/2005 0:00</td>\n",
       "      <td>Resolved</td>\n",
       "      <td>1</td>\n",
       "      <td>3</td>\n",
       "      <td>2005</td>\n",
       "      <td>...</td>\n",
       "      <td>C/ Moralzarzal, 86</td>\n",
       "      <td>NaN</td>\n",
       "      <td>Madrid</td>\n",
       "      <td>NaN</td>\n",
       "      <td>28034</td>\n",
       "      <td>Spain</td>\n",
       "      <td>EMEA</td>\n",
       "      <td>Freyre</td>\n",
       "      <td>Diego</td>\n",
       "      <td>Medium</td>\n",
       "    </tr>\n",
       "    <tr>\n",
       "      <th>2821</th>\n",
       "      <td>10397</td>\n",
       "      <td>34</td>\n",
       "      <td>62.24</td>\n",
       "      <td>1</td>\n",
       "      <td>2116.16</td>\n",
       "      <td>3/28/2005 0:00</td>\n",
       "      <td>Shipped</td>\n",
       "      <td>1</td>\n",
       "      <td>3</td>\n",
       "      <td>2005</td>\n",
       "      <td>...</td>\n",
       "      <td>1 rue Alsace-Lorraine</td>\n",
       "      <td>NaN</td>\n",
       "      <td>Toulouse</td>\n",
       "      <td>NaN</td>\n",
       "      <td>31000</td>\n",
       "      <td>France</td>\n",
       "      <td>EMEA</td>\n",
       "      <td>Roulet</td>\n",
       "      <td>Annette</td>\n",
       "      <td>Small</td>\n",
       "    </tr>\n",
       "    <tr>\n",
       "      <th>2822</th>\n",
       "      <td>10414</td>\n",
       "      <td>47</td>\n",
       "      <td>65.52</td>\n",
       "      <td>9</td>\n",
       "      <td>3079.44</td>\n",
       "      <td>5/6/2005 0:00</td>\n",
       "      <td>On Hold</td>\n",
       "      <td>2</td>\n",
       "      <td>5</td>\n",
       "      <td>2005</td>\n",
       "      <td>...</td>\n",
       "      <td>8616 Spinnaker Dr.</td>\n",
       "      <td>NaN</td>\n",
       "      <td>Boston</td>\n",
       "      <td>MA</td>\n",
       "      <td>51003</td>\n",
       "      <td>USA</td>\n",
       "      <td>NaN</td>\n",
       "      <td>Yoshido</td>\n",
       "      <td>Juri</td>\n",
       "      <td>Medium</td>\n",
       "    </tr>\n",
       "  </tbody>\n",
       "</table>\n",
       "<p>5 rows × 25 columns</p>\n",
       "</div>"
      ],
      "text/plain": [
       "      ORDERNUMBER  QUANTITYORDERED  PRICEEACH  ORDERLINENUMBER    SALES  \\\n",
       "2818        10350               20     100.00               15  2244.40   \n",
       "2819        10373               29     100.00                1  3978.51   \n",
       "2820        10386               43     100.00                4  5417.57   \n",
       "2821        10397               34      62.24                1  2116.16   \n",
       "2822        10414               47      65.52                9  3079.44   \n",
       "\n",
       "           ORDERDATE    STATUS  QTR_ID  MONTH_ID  YEAR_ID  ...  \\\n",
       "2818  12/2/2004 0:00   Shipped       4        12     2004  ...   \n",
       "2819  1/31/2005 0:00   Shipped       1         1     2005  ...   \n",
       "2820   3/1/2005 0:00  Resolved       1         3     2005  ...   \n",
       "2821  3/28/2005 0:00   Shipped       1         3     2005  ...   \n",
       "2822   5/6/2005 0:00   On Hold       2         5     2005  ...   \n",
       "\n",
       "               ADDRESSLINE1  ADDRESSLINE2      CITY STATE POSTALCODE  COUNTRY  \\\n",
       "2818     C/ Moralzarzal, 86           NaN    Madrid   NaN      28034    Spain   \n",
       "2819            Torikatu 38           NaN      Oulu   NaN      90110  Finland   \n",
       "2820     C/ Moralzarzal, 86           NaN    Madrid   NaN      28034    Spain   \n",
       "2821  1 rue Alsace-Lorraine           NaN  Toulouse   NaN      31000   France   \n",
       "2822     8616 Spinnaker Dr.           NaN    Boston    MA      51003      USA   \n",
       "\n",
       "     TERRITORY CONTACTLASTNAME CONTACTFIRSTNAME DEALSIZE  \n",
       "2818      EMEA          Freyre            Diego    Small  \n",
       "2819      EMEA       Koskitalo           Pirkko   Medium  \n",
       "2820      EMEA          Freyre            Diego   Medium  \n",
       "2821      EMEA          Roulet          Annette    Small  \n",
       "2822       NaN         Yoshido             Juri   Medium  \n",
       "\n",
       "[5 rows x 25 columns]"
      ]
     },
     "execution_count": 134,
     "metadata": {},
     "output_type": "execute_result"
    }
   ],
   "source": [
    "print(\"--- File 1 (csv) tail (last few rows) ---\")\n",
    "csv.tail()"
   ]
  },
  {
   "cell_type": "code",
   "execution_count": 136,
   "id": "81071805-30f0-4f2f-9045-cb7c0e30f04c",
   "metadata": {},
   "outputs": [
    {
     "name": "stdout",
     "output_type": "stream",
     "text": [
      "\n",
      "--- File 2 (ed) Info ---\n",
      "<class 'pandas.core.frame.DataFrame'>\n",
      "RangeIndex: 390 entries, 0 to 389\n",
      "Data columns (total 5 columns):\n",
      " #   Column          Non-Null Count  Dtype  \n",
      "---  ------          --------------  -----  \n",
      " 0   Postcode        390 non-null    int64  \n",
      " 1   Sales_Rep_ID    390 non-null    int64  \n",
      " 2   Sales_Rep_Name  390 non-null    object \n",
      " 3   Year            390 non-null    int64  \n",
      " 4   Value           390 non-null    float64\n",
      "dtypes: float64(1), int64(3), object(1)\n",
      "memory usage: 15.4+ KB\n"
     ]
    }
   ],
   "source": [
    "print(\"\\n--- File 2 (ed) Info ---\")\n",
    "ed.info()"
   ]
  },
  {
   "cell_type": "code",
   "execution_count": 138,
   "id": "6370483e-1ece-4e04-a29f-5737332c98ec",
   "metadata": {},
   "outputs": [
    {
     "name": "stdout",
     "output_type": "stream",
     "text": [
      "\n",
      "--- File 2 (ed) describe ---\n"
     ]
    },
    {
     "data": {
      "text/html": [
       "<div>\n",
       "<style scoped>\n",
       "    .dataframe tbody tr th:only-of-type {\n",
       "        vertical-align: middle;\n",
       "    }\n",
       "\n",
       "    .dataframe tbody tr th {\n",
       "        vertical-align: top;\n",
       "    }\n",
       "\n",
       "    .dataframe thead th {\n",
       "        text-align: right;\n",
       "    }\n",
       "</style>\n",
       "<table border=\"1\" class=\"dataframe\">\n",
       "  <thead>\n",
       "    <tr style=\"text-align: right;\">\n",
       "      <th></th>\n",
       "      <th>Postcode</th>\n",
       "      <th>Sales_Rep_ID</th>\n",
       "      <th>Year</th>\n",
       "      <th>Value</th>\n",
       "    </tr>\n",
       "  </thead>\n",
       "  <tbody>\n",
       "    <tr>\n",
       "      <th>count</th>\n",
       "      <td>390.000000</td>\n",
       "      <td>390.000000</td>\n",
       "      <td>390.000000</td>\n",
       "      <td>390.000000</td>\n",
       "    </tr>\n",
       "    <tr>\n",
       "      <th>mean</th>\n",
       "      <td>2098.430769</td>\n",
       "      <td>456.000000</td>\n",
       "      <td>2012.000000</td>\n",
       "      <td>49229.388305</td>\n",
       "    </tr>\n",
       "    <tr>\n",
       "      <th>std</th>\n",
       "      <td>58.652206</td>\n",
       "      <td>272.242614</td>\n",
       "      <td>0.817545</td>\n",
       "      <td>28251.271309</td>\n",
       "    </tr>\n",
       "    <tr>\n",
       "      <th>min</th>\n",
       "      <td>2000.000000</td>\n",
       "      <td>123.000000</td>\n",
       "      <td>2011.000000</td>\n",
       "      <td>106.360599</td>\n",
       "    </tr>\n",
       "    <tr>\n",
       "      <th>25%</th>\n",
       "      <td>2044.000000</td>\n",
       "      <td>123.000000</td>\n",
       "      <td>2011.000000</td>\n",
       "      <td>26101.507357</td>\n",
       "    </tr>\n",
       "    <tr>\n",
       "      <th>50%</th>\n",
       "      <td>2097.500000</td>\n",
       "      <td>456.000000</td>\n",
       "      <td>2012.000000</td>\n",
       "      <td>47447.363750</td>\n",
       "    </tr>\n",
       "    <tr>\n",
       "      <th>75%</th>\n",
       "      <td>2142.000000</td>\n",
       "      <td>789.000000</td>\n",
       "      <td>2013.000000</td>\n",
       "      <td>72277.800608</td>\n",
       "    </tr>\n",
       "    <tr>\n",
       "      <th>max</th>\n",
       "      <td>2206.000000</td>\n",
       "      <td>789.000000</td>\n",
       "      <td>2013.000000</td>\n",
       "      <td>99878.489209</td>\n",
       "    </tr>\n",
       "  </tbody>\n",
       "</table>\n",
       "</div>"
      ],
      "text/plain": [
       "          Postcode  Sales_Rep_ID         Year         Value\n",
       "count   390.000000    390.000000   390.000000    390.000000\n",
       "mean   2098.430769    456.000000  2012.000000  49229.388305\n",
       "std      58.652206    272.242614     0.817545  28251.271309\n",
       "min    2000.000000    123.000000  2011.000000    106.360599\n",
       "25%    2044.000000    123.000000  2011.000000  26101.507357\n",
       "50%    2097.500000    456.000000  2012.000000  47447.363750\n",
       "75%    2142.000000    789.000000  2013.000000  72277.800608\n",
       "max    2206.000000    789.000000  2013.000000  99878.489209"
      ]
     },
     "execution_count": 138,
     "metadata": {},
     "output_type": "execute_result"
    }
   ],
   "source": [
    "print(\"\\n--- File 2 (ed) describe ---\")\n",
    "ed.describe()"
   ]
  },
  {
   "cell_type": "code",
   "execution_count": 140,
   "id": "ccd9b5f3-cc1d-4be5-acb3-978242402518",
   "metadata": {},
   "outputs": [
    {
     "name": "stdout",
     "output_type": "stream",
     "text": [
      "\n",
      "--- File 2 (ed) shape ---\n"
     ]
    },
    {
     "data": {
      "text/plain": [
       "(390, 5)"
      ]
     },
     "execution_count": 140,
     "metadata": {},
     "output_type": "execute_result"
    }
   ],
   "source": [
    "print(\"\\n--- File 2 (ed) shape ---\")\n",
    "ed.shape"
   ]
  },
  {
   "cell_type": "code",
   "execution_count": 142,
   "id": "fddbf65f-721f-41df-9c18-e3304411c65f",
   "metadata": {},
   "outputs": [
    {
     "name": "stdout",
     "output_type": "stream",
     "text": [
      "--- File 2 (ed) head (first few rows) ---\n"
     ]
    },
    {
     "data": {
      "text/html": [
       "<div>\n",
       "<style scoped>\n",
       "    .dataframe tbody tr th:only-of-type {\n",
       "        vertical-align: middle;\n",
       "    }\n",
       "\n",
       "    .dataframe tbody tr th {\n",
       "        vertical-align: top;\n",
       "    }\n",
       "\n",
       "    .dataframe thead th {\n",
       "        text-align: right;\n",
       "    }\n",
       "</style>\n",
       "<table border=\"1\" class=\"dataframe\">\n",
       "  <thead>\n",
       "    <tr style=\"text-align: right;\">\n",
       "      <th></th>\n",
       "      <th>Postcode</th>\n",
       "      <th>Sales_Rep_ID</th>\n",
       "      <th>Sales_Rep_Name</th>\n",
       "      <th>Year</th>\n",
       "      <th>Value</th>\n",
       "    </tr>\n",
       "  </thead>\n",
       "  <tbody>\n",
       "    <tr>\n",
       "      <th>0</th>\n",
       "      <td>2121</td>\n",
       "      <td>456</td>\n",
       "      <td>Jane</td>\n",
       "      <td>2011</td>\n",
       "      <td>84219.497311</td>\n",
       "    </tr>\n",
       "    <tr>\n",
       "      <th>1</th>\n",
       "      <td>2092</td>\n",
       "      <td>789</td>\n",
       "      <td>Ashish</td>\n",
       "      <td>2012</td>\n",
       "      <td>28322.192268</td>\n",
       "    </tr>\n",
       "    <tr>\n",
       "      <th>2</th>\n",
       "      <td>2128</td>\n",
       "      <td>456</td>\n",
       "      <td>Jane</td>\n",
       "      <td>2013</td>\n",
       "      <td>81878.997241</td>\n",
       "    </tr>\n",
       "    <tr>\n",
       "      <th>3</th>\n",
       "      <td>2073</td>\n",
       "      <td>123</td>\n",
       "      <td>John</td>\n",
       "      <td>2011</td>\n",
       "      <td>44491.142121</td>\n",
       "    </tr>\n",
       "    <tr>\n",
       "      <th>4</th>\n",
       "      <td>2134</td>\n",
       "      <td>789</td>\n",
       "      <td>Ashish</td>\n",
       "      <td>2012</td>\n",
       "      <td>71837.720959</td>\n",
       "    </tr>\n",
       "  </tbody>\n",
       "</table>\n",
       "</div>"
      ],
      "text/plain": [
       "   Postcode  Sales_Rep_ID Sales_Rep_Name  Year         Value\n",
       "0      2121           456           Jane  2011  84219.497311\n",
       "1      2092           789         Ashish  2012  28322.192268\n",
       "2      2128           456           Jane  2013  81878.997241\n",
       "3      2073           123           John  2011  44491.142121\n",
       "4      2134           789         Ashish  2012  71837.720959"
      ]
     },
     "execution_count": 142,
     "metadata": {},
     "output_type": "execute_result"
    }
   ],
   "source": [
    "print(\"--- File 2 (ed) head (first few rows) ---\")\n",
    "ed.head()"
   ]
  },
  {
   "cell_type": "code",
   "execution_count": 144,
   "id": "dc680383-2ec4-4427-95b0-26bdcacf1b21",
   "metadata": {},
   "outputs": [
    {
     "name": "stdout",
     "output_type": "stream",
     "text": [
      "--- File 2 (ed) tail (last few rows) ---\n"
     ]
    },
    {
     "data": {
      "text/html": [
       "<div>\n",
       "<style scoped>\n",
       "    .dataframe tbody tr th:only-of-type {\n",
       "        vertical-align: middle;\n",
       "    }\n",
       "\n",
       "    .dataframe tbody tr th {\n",
       "        vertical-align: top;\n",
       "    }\n",
       "\n",
       "    .dataframe thead th {\n",
       "        text-align: right;\n",
       "    }\n",
       "</style>\n",
       "<table border=\"1\" class=\"dataframe\">\n",
       "  <thead>\n",
       "    <tr style=\"text-align: right;\">\n",
       "      <th></th>\n",
       "      <th>Postcode</th>\n",
       "      <th>Sales_Rep_ID</th>\n",
       "      <th>Sales_Rep_Name</th>\n",
       "      <th>Year</th>\n",
       "      <th>Value</th>\n",
       "    </tr>\n",
       "  </thead>\n",
       "  <tbody>\n",
       "    <tr>\n",
       "      <th>385</th>\n",
       "      <td>2164</td>\n",
       "      <td>123</td>\n",
       "      <td>John</td>\n",
       "      <td>2012</td>\n",
       "      <td>88884.535217</td>\n",
       "    </tr>\n",
       "    <tr>\n",
       "      <th>386</th>\n",
       "      <td>2193</td>\n",
       "      <td>456</td>\n",
       "      <td>Jane</td>\n",
       "      <td>2013</td>\n",
       "      <td>79440.290813</td>\n",
       "    </tr>\n",
       "    <tr>\n",
       "      <th>387</th>\n",
       "      <td>2031</td>\n",
       "      <td>123</td>\n",
       "      <td>John</td>\n",
       "      <td>2011</td>\n",
       "      <td>65643.689454</td>\n",
       "    </tr>\n",
       "    <tr>\n",
       "      <th>388</th>\n",
       "      <td>2130</td>\n",
       "      <td>456</td>\n",
       "      <td>Jane</td>\n",
       "      <td>2012</td>\n",
       "      <td>66247.874869</td>\n",
       "    </tr>\n",
       "    <tr>\n",
       "      <th>389</th>\n",
       "      <td>2116</td>\n",
       "      <td>456</td>\n",
       "      <td>Jane</td>\n",
       "      <td>2013</td>\n",
       "      <td>3195.699054</td>\n",
       "    </tr>\n",
       "  </tbody>\n",
       "</table>\n",
       "</div>"
      ],
      "text/plain": [
       "     Postcode  Sales_Rep_ID Sales_Rep_Name  Year         Value\n",
       "385      2164           123           John  2012  88884.535217\n",
       "386      2193           456           Jane  2013  79440.290813\n",
       "387      2031           123           John  2011  65643.689454\n",
       "388      2130           456           Jane  2012  66247.874869\n",
       "389      2116           456           Jane  2013   3195.699054"
      ]
     },
     "execution_count": 144,
     "metadata": {},
     "output_type": "execute_result"
    }
   ],
   "source": [
    "print(\"--- File 2 (ed) tail (last few rows) ---\")\n",
    "ed.tail()"
   ]
  },
  {
   "cell_type": "code",
   "execution_count": 146,
   "id": "748d9f1b-7994-4d4f-ab45-4f6d1ff2cfe1",
   "metadata": {},
   "outputs": [
    {
     "name": "stdout",
     "output_type": "stream",
     "text": [
      "\n",
      "--- File 3 json (cust_df) Info ---\n",
      "<class 'pandas.core.frame.DataFrame'>\n",
      "RangeIndex: 9999 entries, 0 to 9998\n",
      "Data columns (total 7 columns):\n",
      " #   Column      Non-Null Count  Dtype \n",
      "---  ------      --------------  ----- \n",
      " 0   id          9999 non-null   int64 \n",
      " 1   email       9999 non-null   object\n",
      " 2   first       9999 non-null   object\n",
      " 3   last        9999 non-null   object\n",
      " 4   company     9999 non-null   object\n",
      " 5   created_at  9999 non-null   object\n",
      " 6   country     9999 non-null   object\n",
      "dtypes: int64(1), object(6)\n",
      "memory usage: 546.9+ KB\n"
     ]
    }
   ],
   "source": [
    "print(\"\\n--- File 3 json (cust_df) Info ---\")\n",
    "cust_df.info()"
   ]
  },
  {
   "cell_type": "code",
   "execution_count": 148,
   "id": "7d63019a-3197-45e4-bfb2-8abaeaeb7fa9",
   "metadata": {},
   "outputs": [
    {
     "name": "stdout",
     "output_type": "stream",
     "text": [
      "\n",
      "--- File 3 json (cust_df) describe ---\n"
     ]
    },
    {
     "data": {
      "text/html": [
       "<div>\n",
       "<style scoped>\n",
       "    .dataframe tbody tr th:only-of-type {\n",
       "        vertical-align: middle;\n",
       "    }\n",
       "\n",
       "    .dataframe tbody tr th {\n",
       "        vertical-align: top;\n",
       "    }\n",
       "\n",
       "    .dataframe thead th {\n",
       "        text-align: right;\n",
       "    }\n",
       "</style>\n",
       "<table border=\"1\" class=\"dataframe\">\n",
       "  <thead>\n",
       "    <tr style=\"text-align: right;\">\n",
       "      <th></th>\n",
       "      <th>id</th>\n",
       "    </tr>\n",
       "  </thead>\n",
       "  <tbody>\n",
       "    <tr>\n",
       "      <th>count</th>\n",
       "      <td>9999.000000</td>\n",
       "    </tr>\n",
       "    <tr>\n",
       "      <th>mean</th>\n",
       "      <td>5000.000000</td>\n",
       "    </tr>\n",
       "    <tr>\n",
       "      <th>std</th>\n",
       "      <td>2886.607005</td>\n",
       "    </tr>\n",
       "    <tr>\n",
       "      <th>min</th>\n",
       "      <td>1.000000</td>\n",
       "    </tr>\n",
       "    <tr>\n",
       "      <th>25%</th>\n",
       "      <td>2500.500000</td>\n",
       "    </tr>\n",
       "    <tr>\n",
       "      <th>50%</th>\n",
       "      <td>5000.000000</td>\n",
       "    </tr>\n",
       "    <tr>\n",
       "      <th>75%</th>\n",
       "      <td>7499.500000</td>\n",
       "    </tr>\n",
       "    <tr>\n",
       "      <th>max</th>\n",
       "      <td>9999.000000</td>\n",
       "    </tr>\n",
       "  </tbody>\n",
       "</table>\n",
       "</div>"
      ],
      "text/plain": [
       "                id\n",
       "count  9999.000000\n",
       "mean   5000.000000\n",
       "std    2886.607005\n",
       "min       1.000000\n",
       "25%    2500.500000\n",
       "50%    5000.000000\n",
       "75%    7499.500000\n",
       "max    9999.000000"
      ]
     },
     "execution_count": 148,
     "metadata": {},
     "output_type": "execute_result"
    }
   ],
   "source": [
    "print(\"\\n--- File 3 json (cust_df) describe ---\")\n",
    "cust_df.describe()"
   ]
  },
  {
   "cell_type": "code",
   "execution_count": 150,
   "id": "b7580093-1242-4409-8472-2713a905aa4a",
   "metadata": {},
   "outputs": [
    {
     "name": "stdout",
     "output_type": "stream",
     "text": [
      "\n",
      "--- File 3 json (cust_df) shape ---\n"
     ]
    },
    {
     "data": {
      "text/plain": [
       "(9999, 7)"
      ]
     },
     "execution_count": 150,
     "metadata": {},
     "output_type": "execute_result"
    }
   ],
   "source": [
    "print(\"\\n--- File 3 json (cust_df) shape ---\")\n",
    "cust_df.shape"
   ]
  },
  {
   "cell_type": "code",
   "execution_count": 152,
   "id": "47dd01ca-5cda-4362-a966-2f61a0d85d27",
   "metadata": {},
   "outputs": [
    {
     "name": "stdout",
     "output_type": "stream",
     "text": [
      "--- File 3 json (cust_df) head (first few rows) ---\n"
     ]
    },
    {
     "data": {
      "text/html": [
       "<div>\n",
       "<style scoped>\n",
       "    .dataframe tbody tr th:only-of-type {\n",
       "        vertical-align: middle;\n",
       "    }\n",
       "\n",
       "    .dataframe tbody tr th {\n",
       "        vertical-align: top;\n",
       "    }\n",
       "\n",
       "    .dataframe thead th {\n",
       "        text-align: right;\n",
       "    }\n",
       "</style>\n",
       "<table border=\"1\" class=\"dataframe\">\n",
       "  <thead>\n",
       "    <tr style=\"text-align: right;\">\n",
       "      <th></th>\n",
       "      <th>id</th>\n",
       "      <th>email</th>\n",
       "      <th>first</th>\n",
       "      <th>last</th>\n",
       "      <th>company</th>\n",
       "      <th>created_at</th>\n",
       "      <th>country</th>\n",
       "    </tr>\n",
       "  </thead>\n",
       "  <tbody>\n",
       "    <tr>\n",
       "      <th>0</th>\n",
       "      <td>1</td>\n",
       "      <td>isidro_von@hotmail.com</td>\n",
       "      <td>Torrey</td>\n",
       "      <td>Veum</td>\n",
       "      <td>Hilll, Mayert and Wolf</td>\n",
       "      <td>2014-12-25T04:06:27.981Z</td>\n",
       "      <td>Switzerland</td>\n",
       "    </tr>\n",
       "    <tr>\n",
       "      <th>1</th>\n",
       "      <td>2</td>\n",
       "      <td>frederique19@gmail.com</td>\n",
       "      <td>Micah</td>\n",
       "      <td>Sanford</td>\n",
       "      <td>Stokes-Reichel</td>\n",
       "      <td>2014-07-03T16:08:17.044Z</td>\n",
       "      <td>Democratic People's Republic of Korea</td>\n",
       "    </tr>\n",
       "    <tr>\n",
       "      <th>2</th>\n",
       "      <td>3</td>\n",
       "      <td>fredy54@gmail.com</td>\n",
       "      <td>Hollis</td>\n",
       "      <td>Swift</td>\n",
       "      <td>Rodriguez, Cartwright and Kuhn</td>\n",
       "      <td>2014-08-18T06:15:16.731Z</td>\n",
       "      <td>Tunisia</td>\n",
       "    </tr>\n",
       "    <tr>\n",
       "      <th>3</th>\n",
       "      <td>4</td>\n",
       "      <td>braxton29@hotmail.com</td>\n",
       "      <td>Perry</td>\n",
       "      <td>Leffler</td>\n",
       "      <td>Sipes, Feeney and Hansen</td>\n",
       "      <td>2014-07-10T11:31:40.235Z</td>\n",
       "      <td>Chad</td>\n",
       "    </tr>\n",
       "    <tr>\n",
       "      <th>4</th>\n",
       "      <td>5</td>\n",
       "      <td>turner59@gmail.com</td>\n",
       "      <td>Janelle</td>\n",
       "      <td>Hagenes</td>\n",
       "      <td>Lesch and Daughters</td>\n",
       "      <td>2014-04-21T15:05:43.229Z</td>\n",
       "      <td>Swaziland</td>\n",
       "    </tr>\n",
       "  </tbody>\n",
       "</table>\n",
       "</div>"
      ],
      "text/plain": [
       "   id                   email    first     last  \\\n",
       "0   1  isidro_von@hotmail.com   Torrey     Veum   \n",
       "1   2  frederique19@gmail.com    Micah  Sanford   \n",
       "2   3       fredy54@gmail.com   Hollis    Swift   \n",
       "3   4   braxton29@hotmail.com    Perry  Leffler   \n",
       "4   5      turner59@gmail.com  Janelle  Hagenes   \n",
       "\n",
       "                          company                created_at  \\\n",
       "0          Hilll, Mayert and Wolf  2014-12-25T04:06:27.981Z   \n",
       "1                  Stokes-Reichel  2014-07-03T16:08:17.044Z   \n",
       "2  Rodriguez, Cartwright and Kuhn  2014-08-18T06:15:16.731Z   \n",
       "3        Sipes, Feeney and Hansen  2014-07-10T11:31:40.235Z   \n",
       "4             Lesch and Daughters  2014-04-21T15:05:43.229Z   \n",
       "\n",
       "                                 country  \n",
       "0                            Switzerland  \n",
       "1  Democratic People's Republic of Korea  \n",
       "2                                Tunisia  \n",
       "3                                   Chad  \n",
       "4                              Swaziland  "
      ]
     },
     "execution_count": 152,
     "metadata": {},
     "output_type": "execute_result"
    }
   ],
   "source": [
    "print(\"--- File 3 json (cust_df) head (first few rows) ---\")\n",
    "cust_df.head()"
   ]
  },
  {
   "cell_type": "code",
   "execution_count": 154,
   "id": "0b74dc8f-b85a-4b80-b555-3ad68eab9518",
   "metadata": {},
   "outputs": [
    {
     "name": "stdout",
     "output_type": "stream",
     "text": [
      "--- File 3 json (cust_df) tail (last few rows) ---\n"
     ]
    },
    {
     "data": {
      "text/html": [
       "<div>\n",
       "<style scoped>\n",
       "    .dataframe tbody tr th:only-of-type {\n",
       "        vertical-align: middle;\n",
       "    }\n",
       "\n",
       "    .dataframe tbody tr th {\n",
       "        vertical-align: top;\n",
       "    }\n",
       "\n",
       "    .dataframe thead th {\n",
       "        text-align: right;\n",
       "    }\n",
       "</style>\n",
       "<table border=\"1\" class=\"dataframe\">\n",
       "  <thead>\n",
       "    <tr style=\"text-align: right;\">\n",
       "      <th></th>\n",
       "      <th>id</th>\n",
       "      <th>email</th>\n",
       "      <th>first</th>\n",
       "      <th>last</th>\n",
       "      <th>company</th>\n",
       "      <th>created_at</th>\n",
       "      <th>country</th>\n",
       "    </tr>\n",
       "  </thead>\n",
       "  <tbody>\n",
       "    <tr>\n",
       "      <th>9994</th>\n",
       "      <td>9995</td>\n",
       "      <td>delores_cruickshank@gmail.com</td>\n",
       "      <td>Robert</td>\n",
       "      <td>Batz</td>\n",
       "      <td>Carter-Tillman</td>\n",
       "      <td>2014-04-02T19:13:57.592Z</td>\n",
       "      <td>Yemen</td>\n",
       "    </tr>\n",
       "    <tr>\n",
       "      <th>9995</th>\n",
       "      <td>9996</td>\n",
       "      <td>marley_brown32@hotmail.com</td>\n",
       "      <td>Leone</td>\n",
       "      <td>Reinger</td>\n",
       "      <td>Smitham and Daughters</td>\n",
       "      <td>2014-07-01T18:45:06.223Z</td>\n",
       "      <td>Argentina</td>\n",
       "    </tr>\n",
       "    <tr>\n",
       "      <th>9996</th>\n",
       "      <td>9997</td>\n",
       "      <td>raymond68@hotmail.com</td>\n",
       "      <td>Clementina</td>\n",
       "      <td>Bode</td>\n",
       "      <td>VonRueden LLC</td>\n",
       "      <td>2014-06-12T18:38:54.222Z</td>\n",
       "      <td>Lao People's Democratic Republic</td>\n",
       "    </tr>\n",
       "    <tr>\n",
       "      <th>9997</th>\n",
       "      <td>9998</td>\n",
       "      <td>juston_powlowski@hotmail.com</td>\n",
       "      <td>Yvonne</td>\n",
       "      <td>Prosacco</td>\n",
       "      <td>Green Inc</td>\n",
       "      <td>2015-02-04T18:54:09.035Z</td>\n",
       "      <td>Holy See (Vatican City State)</td>\n",
       "    </tr>\n",
       "    <tr>\n",
       "      <th>9998</th>\n",
       "      <td>9999</td>\n",
       "      <td>orion.senger72@yahoo.com</td>\n",
       "      <td>Darrin</td>\n",
       "      <td>Connelly</td>\n",
       "      <td>Funk and Daughters</td>\n",
       "      <td>2015-01-21T11:20:51.483Z</td>\n",
       "      <td>Niger</td>\n",
       "    </tr>\n",
       "  </tbody>\n",
       "</table>\n",
       "</div>"
      ],
      "text/plain": [
       "        id                          email       first      last  \\\n",
       "9994  9995  delores_cruickshank@gmail.com      Robert      Batz   \n",
       "9995  9996     marley_brown32@hotmail.com       Leone   Reinger   \n",
       "9996  9997          raymond68@hotmail.com  Clementina      Bode   \n",
       "9997  9998   juston_powlowski@hotmail.com      Yvonne  Prosacco   \n",
       "9998  9999       orion.senger72@yahoo.com      Darrin  Connelly   \n",
       "\n",
       "                    company                created_at  \\\n",
       "9994         Carter-Tillman  2014-04-02T19:13:57.592Z   \n",
       "9995  Smitham and Daughters  2014-07-01T18:45:06.223Z   \n",
       "9996          VonRueden LLC  2014-06-12T18:38:54.222Z   \n",
       "9997              Green Inc  2015-02-04T18:54:09.035Z   \n",
       "9998     Funk and Daughters  2015-01-21T11:20:51.483Z   \n",
       "\n",
       "                               country  \n",
       "9994                             Yemen  \n",
       "9995                         Argentina  \n",
       "9996  Lao People's Democratic Republic  \n",
       "9997     Holy See (Vatican City State)  \n",
       "9998                             Niger  "
      ]
     },
     "execution_count": 154,
     "metadata": {},
     "output_type": "execute_result"
    }
   ],
   "source": [
    "print(\"--- File 3 json (cust_df) tail (last few rows) ---\")\n",
    "cust_df.tail()"
   ]
  },
  {
   "cell_type": "code",
   "execution_count": 156,
   "id": "8b275f8d-2bc0-411e-8e83-64f82920d8b9",
   "metadata": {},
   "outputs": [
    {
     "name": "stdout",
     "output_type": "stream",
     "text": [
      "--- Cleaning Main Sales Data (CSV file) ---\n",
      "'ORDERDATE' column has been converted to datetime format.\n",
      "Missing 'TERRITORY' values have been filled with 'Unknown'.\n",
      "\n",
      "Cleaning complete. The 'csv' DataFrame is now ready for analysis.\n"
     ]
    }
   ],
   "source": [
    "print(\"--- Cleaning Main Sales Data (CSV file) ---\")\n",
    "\n",
    "# 1. Convert 'ORDERDATE' to datetime format (as observed in csv.info())\n",
    "csv['ORDERDATE'] = pd.to_datetime(csv['ORDERDATE'])\n",
    "print(\"'ORDERDATE' column has been converted to datetime format.\")\n",
    "\n",
    "# 2. Fill missing 'TERRITORY' values with 'Unknown' (as seen in csv.info())\n",
    "csv['TERRITORY'] = csv['TERRITORY'].fillna('Unknown')\n",
    "print(\"Missing 'TERRITORY' values have been filled with 'Unknown'.\")\n",
    "\n",
    "# 3. Create a 'YEAR_MONTH' column for time-series analysis\n",
    "csv['YEAR_MONTH'] = csv['ORDERDATE'].dt.to_period('M')\n",
    "\n",
    "print(\"\\nCleaning complete. The 'csv' DataFrame is now ready for analysis.\")\n"
   ]
  },
  {
   "cell_type": "code",
   "execution_count": 158,
   "id": "0d52569e-d319-4ce9-bd80-1e85af923fb3",
   "metadata": {},
   "outputs": [
    {
     "name": "stdout",
     "output_type": "stream",
     "text": [
      "--- Calculating Key Metrics ---\n",
      "Total Revenue: $10,032,628.85\n",
      "\n",
      "--- Product-wise Sales ---\n",
      "PRODUCTLINE\n",
      "Classic Cars       $3,919,615.66\n",
      "Vintage Cars       $1,903,150.84\n",
      "Motorcycles        $1,166,388.34\n",
      "Trucks and Buses   $1,127,789.84\n",
      "Planes               $975,003.57\n",
      "Ships                $714,437.13\n",
      "Trains               $226,243.47\n",
      "\n",
      "--- Top 10 Customers ---\n",
      "CUSTOMERNAME\n",
      "Euro Shopping Channel          $912,294.11\n",
      "Mini Gifts Distributors Ltd.   $654,858.06\n",
      "Australian Collectors, Co.     $200,995.41\n",
      "Muscle Machine Inc             $197,736.94\n",
      "La Rochelle Gifts              $180,124.90\n",
      "Dragon Souveniers, Ltd.        $172,989.68\n",
      "Land of Toys Inc.              $164,069.44\n",
      "The Sharp Gifts Warehouse      $160,010.27\n",
      "AV Stores, Co.                 $157,807.81\n",
      "Anna's Decorations, Ltd        $153,996.13\n"
     ]
    }
   ],
   "source": [
    "print(\"--- Calculating Key Metrics ---\")\n",
    "\n",
    "# 1. Total Revenue\n",
    "total_revenue = csv['SALES'].sum()\n",
    "print(f\"Total Revenue: ${total_revenue:,.2f}\")\n",
    "\n",
    "# 2. Product-wise Sales\n",
    "product_sales = csv.groupby('PRODUCTLINE')['SALES'].sum().sort_values(ascending=False)\n",
    "print(\"\\n--- Product-wise Sales ---\")\n",
    "print(product_sales.to_string(float_format=\"${:,.2f}\".format))\n",
    "\n",
    "# 3. Customer Trends (Top 10)\n",
    "customer_trends = csv.groupby('CUSTOMERNAME')['SALES'].sum().sort_values(ascending=False).head(10)\n",
    "print(\"\\n--- Top 10 Customers ---\")\n",
    "print(customer_trends.to_string(float_format=\"${:,.2f}\".format))\n",
    "\n",
    "# 4. Monthly Sales (for line chart visualization)\n",
    "monthly_sales = csv.groupby('YEAR_MONTH')['SALES'].sum()\n",
    "monthly_sales.index = monthly_sales.index.astype(str)  # Convert index to string for plotting\n"
   ]
  },
  {
   "cell_type": "code",
   "execution_count": 160,
   "id": "72cb0494-aee6-49fc-8a86-c3addc2754d7",
   "metadata": {},
   "outputs": [
    {
     "name": "stdout",
     "output_type": "stream",
     "text": [
      "--- Visualization 1: Product-wise Sales ---\n"
     ]
    },
    {
     "data": {
      "image/png": "[encoded data removed]",
      "text/plain": [
       "<Figure size 1000x600 with 1 Axes>"
      ]
     },
     "metadata": {},
     "output_type": "display_data"
    }
   ],
   "source": [
    "print(\"--- Visualization 1: Product-wise Sales ---\")\n",
    "plt.figure(figsize=(10, 6))\n",
    "product_sales.plot(kind='bar', color=sns.color_palette('viridis'))\n",
    "plt.title('Total Sales by Product Line', fontsize=16)\n",
    "plt.ylabel('Total Sales (in millions)')\n",
    "plt.xlabel('Product Line')\n",
    "plt.xticks(rotation=45, ha='right')\n",
    "plt.tight_layout()\n",
    "plt.show()"
   ]
  },
  {
   "cell_type": "code",
   "execution_count": 162,
   "id": "6dd16d34-d26e-4d7d-8132-87629f71246b",
   "metadata": {},
   "outputs": [
    {
     "name": "stdout",
     "output_type": "stream",
     "text": [
      "\n",
      "--- Visualization 2: Monthly Sales Trends ---\n"
     ]
    },
    {
     "data": {
      "image/png": "[encoded data removed]",
      "text/plain": [
       "<Figure size 1200x600 with 1 Axes>"
      ]
     },
     "metadata": {},
     "output_type": "display_data"
    }
   ],
   "source": [
    "print(\"\\n--- Visualization 2: Monthly Sales Trends ---\")\n",
    "plt.figure(figsize=(12, 6))\n",
    "monthly_sales.plot(kind='line', marker='o', linestyle='-')\n",
    "plt.title('Monthly Sales Over Time', fontsize=16)\n",
    "plt.xlabel('Month')\n",
    "plt.ylabel('Total Sales')\n",
    "plt.xticks(rotation=90)\n",
    "plt.grid(True)\n",
    "plt.tight_layout()\n",
    "plt.show()"
   ]
  },
  {
   "cell_type": "code",
   "execution_count": 164,
   "id": "c796bc2d-9b0a-4062-91f8-d331fce12bd8",
   "metadata": {},
   "outputs": [
    {
     "name": "stdout",
     "output_type": "stream",
     "text": [
      "\n",
      "--- Visualization 3: Sales by Territory ---\n"
     ]
    },
    {
     "data": {
      "image/png": "[encoded data removed]",
      "text/plain": [
       "<Figure size 500x500 with 1 Axes>"
      ]
     },
     "metadata": {},
     "output_type": "display_data"
    }
   ],
   "source": [
    "print(\"\\n--- Visualization 3: Sales by Territory ---\")\n",
    "\n",
    "# Calculate the metric for the pie chart\n",
    "territory_sales = csv.groupby('TERRITORY')['SALES'].sum()\n",
    "\n",
    "plt.figure(figsize=(5, 5))\n",
    "territory_sales.plot(kind='pie', autopct='%1.1f%%', startangle=140, colors=sns.color_palette('pastel'))\n",
    "\n",
    "plt.title('Sales Distribution by Territory', fontsize=16)\n",
    "plt.ylabel('')  # Remove the default y-axis label\n",
    "plt.axis('equal')  # Ensure the pie chart is drawn as a circle\n",
    "plt.tight_layout()\n",
    "plt.show()\n"
   ]
  },
  {
   "cell_type": "code",
   "execution_count": 166,
   "id": "4e02f9ef-4c8e-4d77-a691-6494d5c15482",
   "metadata": {},
   "outputs": [
    {
     "name": "stdout",
     "output_type": "stream",
     "text": [
      "\n",
      "--- Visualization 4: Sales Value Distribution ---\n"
     ]
    },
    {
     "data": {
      "image/png": "[encoded data removed]",
      "text/plain": [
       "<Figure size 1000x500 with 1 Axes>"
      ]
     },
     "metadata": {},
     "output_type": "display_data"
    }
   ],
   "source": [
    "\n",
    "print(\"\\n--- Visualization 4: Sales Value Distribution ---\")\n",
    "\n",
    "csv['SALES'].plot(kind='hist', bins=50, figsize=(10, 5), color='blue', edgecolor='black')\n",
    "\n",
    "plt.title('Sales Value Distribution')\n",
    "plt.xlabel('Sales Value')\n",
    "plt.ylabel('Frequency (Number of Occurrences)')\n",
    "plt.show()\n"
   ]
  },
  {
   "cell_type": "markdown",
   "id": "a622a5a3-3398-41f5-8208-d2401464c128",
   "metadata": {},
   "source": [
    "Conclusion & key findings:\n",
    "\n",
    "1) The CSV file (sales_data_sample.csv) was the main dataset containing key sales information like SALES, PRODUCTLINE, ORDERDATE, and CUSTOMERNAME.\n",
    "\n",
    "2) All major analysis — including cleaning, metric calculation, and visualizations — was done using this CSV file.\n",
    "\n",
    "3) The XLSX file (Sample-Sales-Data.xlsx) was a supplementary dataset with sales rep data from 2011–2013, so it couldn’t be merged with the main 2003–2005 data.\n",
    "\n",
    "4) The JSON file (customers.json) contained a list of 9,999 customers, used only to demonstrate JSON file handling.\n",
    "\n",
    "5) Overall, only the CSV file was used for analysis, while XLSX and JSON files proved the ability to handle multiple file formats (Outcome 1)."
   ]
  },
  {
   "cell_type": "code",
   "execution_count": null,
   "id": "860b3793-c9ee-4a9e-b267-b5d53841bcf5",
   "metadata": {},
   "outputs": [],
   "source": []
  },
  {
   "cell_type": "code",
   "execution_count": null,
   "id": "f596b27c-d3e6-4f53-b6cd-8719b193800e",
   "metadata": {},
   "outputs": [],
   "source": []
  }
 ],
 "metadata": {
  "kernelspec": {
   "display_name": "Python [conda env:anaconda3]",
   "language": "python",
   "name": "conda-env-anaconda3-py"
  },
  "language_info": {
   "codemirror_mode": {
    "name": "ipython",
    "version": 3
   },
   "file_extension": ".py",
   "mimetype": "text/x-python",
   "name": "python",
   "nbconvert_exporter": "python",
   "pygments_lexer": "ipython3",
   "version": "3.12.7"
  }
 },
 "nbformat": 4,
 "nbformat_minor": 5
}
